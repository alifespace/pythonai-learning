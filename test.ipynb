{
 "cells": [
  {
   "cell_type": "markdown",
   "id": "8fa53223",
   "metadata": {},
   "source": [
    "## About 1\n",
    "## About 2\n",
    "## 关于\n"
   ]
  },
  {
   "cell_type": "markdown",
   "id": "c8c0a093",
   "metadata": {},
   "source": []
  },
  {
   "cell_type": "code",
   "execution_count": 5,
   "id": "d6e38563",
   "metadata": {},
   "outputs": [
    {
     "name": "stdout",
     "output_type": "stream",
     "text": [
      "Hello Python\n",
      "Again\n",
      "Third\n"
     ]
    }
   ],
   "source": [
    "print(\"Hello Python\")\n",
    "print(\"Again\")\n",
    "print(\"Third\")"
   ]
  },
  {
   "cell_type": "markdown",
   "id": "d0442c7e",
   "metadata": {},
   "source": [
    "## 路径操作\n",
    "| 功能                | 方法/属性                 | 示例                          |\n",
    "|---------------------|--------------------------|-------------------------------|\n",
    "| 获取当前目录        | `Path.cwd()`             | `Path.cwd()`                  |\n",
    "| 获取用户主目录      | `Path.home()`            | `Path.home()`                 |\n",
    "| 路径拼接            | `/` 运算符               | `Path(\"dir\") / \"file.txt\"`    |\n",
    "| 转换为字符串        | `str(path)`              | `str(Path(\"file.txt\"))`       |\n",
    "\n",
    "## 路径信息\n",
    "| 功能                | 方法/属性                 | 示例                          |\n",
    "|---------------------|--------------------------|-------------------------------|\n",
    "| 检查路径是否存在    | `path.exists()`          | `Path(\"file.txt\").exists()`   |\n",
    "| 判断是否为文件      | `path.is_file()`         | `Path(\"file.txt\").is_file()`  |\n",
    "| 判断是否为目录      | `path.is_dir()`          | `Path(\"dir\").is_dir()`        |\n",
    "| 获取文件名          | `path.name`              | `Path(\"dir/file.txt\").name`   |\n",
    "| 获取文件名（无后缀）| `path.stem`              | `Path(\"file.txt\").stem`       |\n",
    "| 获取扩展名          | `path.suffix`            | `Path(\"file.txt\").suffix`     |\n",
    "| 获取父目录          | `path.parent`            | `Path(\"dir/file.txt\").parent` |\n",
    "\n",
    "## 文件/目录操作\n",
    "| 功能                | 方法                     | 示例                          |\n",
    "|---------------------|--------------------------|-------------------------------|\n",
    "| 遍历目录            | `path.iterdir()`         | `for f in Path(\"dir\").iterdir()` |\n",
    "| 查找文件（非递归）  | `path.glob(\"*.txt\")`     | `Path(\"dir\").glob(\"*.txt\")`  |\n",
    "| 查找文件（递归）    | `path.rglob(\"*.txt\")`    | `Path(\"dir\").rglob(\"*.txt\")`  |\n",
    "| 读取文件内容        | `path.read_text()`       | `Path(\"file.txt\").read_text()`|\n",
    "| 写入文件内容        | `path.write_text()`      | `Path(\"file.txt\").write_text(\"Hello\")` |\n",
    "| 创建目录            | `path.mkdir()`           | `Path(\"new_dir\").mkdir()`     |\n",
    "| 创建多级目录        | `path.mkdir(parents=True)`| `Path(\"a/b/c\").mkdir(parents=True)` |\n",
    "| 删除文件            | `path.unlink()`          | `Path(\"file.txt\").unlink()`   |\n",
    "| 删除空目录          | `path.rmdir()`           | `Path(\"empty_dir\").rmdir()`   |\n",
    "\n",
    "## 高级功能\n",
    "| 功能                | 方法                     | 示例                          |\n",
    "|---------------------|--------------------------|-------------------------------|\n",
    "| 获取绝对路径        | `path.resolve()`         | `Path(\"file.txt\").resolve()`  |\n",
    "| 打开文件            | `path.open()`            | `with Path(\"file.txt\").open() as f:` |\n",
    "| 获取文件状态        | `path.stat()`            | `Path(\"file.txt\").stat()`     |"
   ]
  },
  {
   "cell_type": "markdown",
   "id": "6f5f7565",
   "metadata": {},
   "source": []
  }
 ],
 "metadata": {
  "kernelspec": {
   "display_name": ".venv",
   "language": "python",
   "name": "python3"
  },
  "language_info": {
   "codemirror_mode": {
    "name": "ipython",
    "version": 3
   },
   "file_extension": ".py",
   "mimetype": "text/x-python",
   "name": "python",
   "nbconvert_exporter": "python",
   "pygments_lexer": "ipython3",
   "version": "3.12.9"
  }
 },
 "nbformat": 4,
 "nbformat_minor": 5
}
